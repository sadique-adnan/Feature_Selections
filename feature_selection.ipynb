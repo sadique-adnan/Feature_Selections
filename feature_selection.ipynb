{
 "cells": [
  {
   "cell_type": "code",
   "execution_count": 1,
   "metadata": {},
   "outputs": [],
   "source": [
    "import pandas as pd\n",
    "import seaborn as sns\n",
    "import matplotlib.pyplot as plt\n",
    "from xgboost import XGBClassifier, plot_importance\n",
    "from sklearn.feature_selection import VarianceThreshold\n",
    "from sklearn.feature_selection import mutual_info_classif, f_classif\n",
    "from sklearn.feature_selection import SelectKBest\n",
    "from sklearn.metrics import accuracy_score\n",
    "from mlxtend.feature_selection import SequentialFeatureSelector as SFS\n",
    "from mlxtend.feature_selection import ExhaustiveFeatureSelector as EFS\n",
    "from sklearn.ensemble import RandomForestClassifier\n"
   ]
  },
  {
   "cell_type": "code",
   "execution_count": 2,
   "metadata": {},
   "outputs": [
    {
     "data": {
      "text/html": [
       "<div>\n",
       "<style scoped>\n",
       "    .dataframe tbody tr th:only-of-type {\n",
       "        vertical-align: middle;\n",
       "    }\n",
       "\n",
       "    .dataframe tbody tr th {\n",
       "        vertical-align: top;\n",
       "    }\n",
       "\n",
       "    .dataframe thead th {\n",
       "        text-align: right;\n",
       "    }\n",
       "</style>\n",
       "<table border=\"1\" class=\"dataframe\">\n",
       "  <thead>\n",
       "    <tr style=\"text-align: right;\">\n",
       "      <th></th>\n",
       "      <th>sample index</th>\n",
       "      <th>class_label</th>\n",
       "      <th>sensor0</th>\n",
       "      <th>sensor1</th>\n",
       "      <th>sensor2</th>\n",
       "      <th>sensor3</th>\n",
       "      <th>sensor4</th>\n",
       "      <th>sensor5</th>\n",
       "      <th>sensor6</th>\n",
       "      <th>sensor7</th>\n",
       "      <th>sensor8</th>\n",
       "      <th>sensor9</th>\n",
       "    </tr>\n",
       "  </thead>\n",
       "  <tbody>\n",
       "    <tr>\n",
       "      <th>0</th>\n",
       "      <td>sample0</td>\n",
       "      <td>1.0</td>\n",
       "      <td>0.834251</td>\n",
       "      <td>0.726081</td>\n",
       "      <td>0.535904</td>\n",
       "      <td>0.214896</td>\n",
       "      <td>0.873788</td>\n",
       "      <td>0.767605</td>\n",
       "      <td>0.111308</td>\n",
       "      <td>0.557526</td>\n",
       "      <td>0.599650</td>\n",
       "      <td>0.665569</td>\n",
       "    </tr>\n",
       "    <tr>\n",
       "      <th>1</th>\n",
       "      <td>sample1</td>\n",
       "      <td>1.0</td>\n",
       "      <td>0.804059</td>\n",
       "      <td>0.253135</td>\n",
       "      <td>0.869867</td>\n",
       "      <td>0.334285</td>\n",
       "      <td>0.604075</td>\n",
       "      <td>0.494045</td>\n",
       "      <td>0.833575</td>\n",
       "      <td>0.194190</td>\n",
       "      <td>0.014966</td>\n",
       "      <td>0.802918</td>\n",
       "    </tr>\n",
       "    <tr>\n",
       "      <th>2</th>\n",
       "      <td>sample2</td>\n",
       "      <td>1.0</td>\n",
       "      <td>0.694404</td>\n",
       "      <td>0.595777</td>\n",
       "      <td>0.581294</td>\n",
       "      <td>0.799003</td>\n",
       "      <td>0.762857</td>\n",
       "      <td>0.651393</td>\n",
       "      <td>0.075905</td>\n",
       "      <td>0.007186</td>\n",
       "      <td>0.659633</td>\n",
       "      <td>0.831009</td>\n",
       "    </tr>\n",
       "    <tr>\n",
       "      <th>3</th>\n",
       "      <td>sample3</td>\n",
       "      <td>1.0</td>\n",
       "      <td>0.783690</td>\n",
       "      <td>0.038780</td>\n",
       "      <td>0.285043</td>\n",
       "      <td>0.627305</td>\n",
       "      <td>0.800620</td>\n",
       "      <td>0.486340</td>\n",
       "      <td>0.827723</td>\n",
       "      <td>0.339807</td>\n",
       "      <td>0.731343</td>\n",
       "      <td>0.892359</td>\n",
       "    </tr>\n",
       "    <tr>\n",
       "      <th>4</th>\n",
       "      <td>sample4</td>\n",
       "      <td>1.0</td>\n",
       "      <td>0.788835</td>\n",
       "      <td>0.174433</td>\n",
       "      <td>0.348770</td>\n",
       "      <td>0.938244</td>\n",
       "      <td>0.692065</td>\n",
       "      <td>0.377620</td>\n",
       "      <td>0.183760</td>\n",
       "      <td>0.616805</td>\n",
       "      <td>0.492899</td>\n",
       "      <td>0.930969</td>\n",
       "    </tr>\n",
       "  </tbody>\n",
       "</table>\n",
       "</div>"
      ],
      "text/plain": [
       "  sample index  class_label   sensor0   sensor1   sensor2   sensor3   sensor4  \\\n",
       "0      sample0          1.0  0.834251  0.726081  0.535904  0.214896  0.873788   \n",
       "1      sample1          1.0  0.804059  0.253135  0.869867  0.334285  0.604075   \n",
       "2      sample2          1.0  0.694404  0.595777  0.581294  0.799003  0.762857   \n",
       "3      sample3          1.0  0.783690  0.038780  0.285043  0.627305  0.800620   \n",
       "4      sample4          1.0  0.788835  0.174433  0.348770  0.938244  0.692065   \n",
       "\n",
       "    sensor5   sensor6   sensor7   sensor8   sensor9  \n",
       "0  0.767605  0.111308  0.557526  0.599650  0.665569  \n",
       "1  0.494045  0.833575  0.194190  0.014966  0.802918  \n",
       "2  0.651393  0.075905  0.007186  0.659633  0.831009  \n",
       "3  0.486340  0.827723  0.339807  0.731343  0.892359  \n",
       "4  0.377620  0.183760  0.616805  0.492899  0.930969  "
      ]
     },
     "execution_count": 2,
     "metadata": {},
     "output_type": "execute_result"
    }
   ],
   "source": [
    "# Read the csv file\n",
    "df = pd.read_csv(\"data.csv\")\n",
    "X = df.iloc[:,2:]\n",
    "Y = df.iloc[:,1]\n",
    "df.head()"
   ]
  },
  {
   "cell_type": "code",
   "execution_count": 3,
   "metadata": {},
   "outputs": [
    {
     "name": "stdout",
     "output_type": "stream",
     "text": [
      "['sensor0', 'sensor1', 'sensor2', 'sensor3', 'sensor4', 'sensor5', 'sensor6', 'sensor7', 'sensor8', 'sensor9']\n"
     ]
    }
   ],
   "source": [
    "headers = list(df.columns[2:])\n",
    "print(headers)"
   ]
  },
  {
   "cell_type": "code",
   "execution_count": 4,
   "metadata": {},
   "outputs": [
    {
     "name": "stdout",
     "output_type": "stream",
     "text": [
      "      sensor0   sensor1   sensor2   sensor3   sensor4   sensor5   sensor6  \\\n",
      "0    0.834251  0.726081  0.535904  0.214896  0.873788  0.767605  0.111308   \n",
      "1    0.804059  0.253135  0.869867  0.334285  0.604075  0.494045  0.833575   \n",
      "2    0.694404  0.595777  0.581294  0.799003  0.762857  0.651393  0.075905   \n",
      "3    0.783690  0.038780  0.285043  0.627305  0.800620  0.486340  0.827723   \n",
      "4    0.788835  0.174433  0.348770  0.938244  0.692065  0.377620  0.183760   \n",
      "..        ...       ...       ...       ...       ...       ...       ...   \n",
      "395  0.433150  0.816109  0.452945  0.065469  0.237093  0.719321  0.577969   \n",
      "396  0.339346  0.914610  0.097827  0.077522  0.484140  0.690568  0.420054   \n",
      "397  0.320118  0.444951  0.401896  0.970993  0.960264  0.138345  0.354927   \n",
      "398  0.059132  0.337426  0.772847  0.099038  0.966042  0.975086  0.532891   \n",
      "399  0.379778  0.460256  0.229257  0.768975  0.321882  0.118572  0.448964   \n",
      "\n",
      "      sensor7   sensor8   sensor9  \n",
      "0    0.557526  0.599650  0.665569  \n",
      "1    0.194190  0.014966  0.802918  \n",
      "2    0.007186  0.659633  0.831009  \n",
      "3    0.339807  0.731343  0.892359  \n",
      "4    0.616805  0.492899  0.930969  \n",
      "..        ...       ...       ...  \n",
      "395  0.085598  0.357115  0.070060  \n",
      "396  0.482845  0.395148  0.438641  \n",
      "397  0.230749  0.204612  0.558889  \n",
      "398  0.035839  0.258723  0.709958  \n",
      "399  0.546324  0.363127  0.176632  \n",
      "\n",
      "[400 rows x 10 columns]\n"
     ]
    }
   ],
   "source": [
    "print(X)"
   ]
  },
  {
   "cell_type": "markdown",
   "metadata": {},
   "source": [
    "The first task for any classification and regression problems is to analyze the data. Finding the missing value in the data is an important aspect of feature cleaning as certain algorithms cannot work when missing values are present and even if some algorithm can handle the missing data, it may lead to inaccurate conclusions."
   ]
  },
  {
   "cell_type": "code",
   "execution_count": 5,
   "metadata": {},
   "outputs": [
    {
     "data": {
      "text/plain": [
       "False"
      ]
     },
     "execution_count": 5,
     "metadata": {},
     "output_type": "execute_result"
    }
   ],
   "source": [
    "#Check any missing values\n",
    "X.isnull().values.any()"
   ]
  },
  {
   "cell_type": "markdown",
   "metadata": {},
   "source": [
    "## Exploratory data analysis\n",
    "The idea is to identify the data types of each variable and know the basic stats of the variables of the dataframe"
   ]
  },
  {
   "cell_type": "code",
   "execution_count": 6,
   "metadata": {},
   "outputs": [
    {
     "name": "stdout",
     "output_type": "stream",
     "text": [
      "          sensor0     sensor1     sensor2     sensor3     sensor4     sensor5  \\\n",
      "count  400.000000  400.000000  400.000000  400.000000  400.000000  400.000000   \n",
      "mean     0.523661    0.509223    0.481238    0.509752    0.497875    0.501065   \n",
      "std      0.268194    0.276878    0.287584    0.297712    0.288208    0.287634   \n",
      "min      0.007775    0.003865    0.004473    0.001466    0.000250    0.000425   \n",
      "25%      0.299792    0.283004    0.235544    0.262697    0.249369    0.269430   \n",
      "50%      0.534906    0.507583    0.460241    0.510066    0.497842    0.497108   \n",
      "75%      0.751887    0.727843    0.734937    0.768975    0.743401    0.738854   \n",
      "max      0.999476    0.998680    0.992963    0.995119    0.999412    0.997367   \n",
      "\n",
      "          sensor6     sensor7     sensor8     sensor9  \n",
      "count  400.000000  400.000000  400.000000  400.000000  \n",
      "mean     0.490480    0.482372    0.482822    0.541933  \n",
      "std      0.289954    0.282714    0.296180    0.272490  \n",
      "min      0.000173    0.003322    0.003165    0.000452  \n",
      "25%      0.226687    0.242848    0.213626    0.321264  \n",
      "50%      0.477341    0.463438    0.462251    0.578389  \n",
      "75%      0.735304    0.732483    0.740542    0.768990  \n",
      "max      0.997141    0.998230    0.996098    0.999465  \n"
     ]
    },
    {
     "data": {
      "text/plain": [
       "<matplotlib.axes._subplots.AxesSubplot at 0x7f5f8ccd1ef0>"
      ]
     },
     "execution_count": 6,
     "metadata": {},
     "output_type": "execute_result"
    },
    {
     "data": {
      "image/png": "[encoded data removed]",
      "text/plain": [
       "<Figure size 720x360 with 1 Axes>"
      ]
     },
     "metadata": {
      "needs_background": "light"
     },
     "output_type": "display_data"
    }
   ],
   "source": [
    "print(X.describe())\n",
    "X.boxplot(figsize=(10, 5))\n"
   ]
  },
  {
   "cell_type": "code",
   "execution_count": 7,
   "metadata": {},
   "outputs": [
    {
     "data": {
      "text/plain": [
       "array([[<matplotlib.axes._subplots.AxesSubplot object at 0x7f5f8c41d908>,\n",
       "        <matplotlib.axes._subplots.AxesSubplot object at 0x7f5f8c3cbcf8>,\n",
       "        <matplotlib.axes._subplots.AxesSubplot object at 0x7f5f8c37ff60>],\n",
       "       [<matplotlib.axes._subplots.AxesSubplot object at 0x7f5f8c342208>,\n",
       "        <matplotlib.axes._subplots.AxesSubplot object at 0x7f5f8c2f4470>,\n",
       "        <matplotlib.axes._subplots.AxesSubplot object at 0x7f5f8c2a86d8>],\n",
       "       [<matplotlib.axes._subplots.AxesSubplot object at 0x7f5f8c2db940>,\n",
       "        <matplotlib.axes._subplots.AxesSubplot object at 0x7f5f8c28eb70>,\n",
       "        <matplotlib.axes._subplots.AxesSubplot object at 0x7f5f8c28ebe0>],\n",
       "       [<matplotlib.axes._subplots.AxesSubplot object at 0x7f5f8c2060b8>,\n",
       "        <matplotlib.axes._subplots.AxesSubplot object at 0x7f5f8c1bb320>,\n",
       "        <matplotlib.axes._subplots.AxesSubplot object at 0x7f5f8c3e4b38>]],\n",
       "      dtype=object)"
      ]
     },
     "execution_count": 7,
     "metadata": {},
     "output_type": "execute_result"
    },
    {
     "data": {
      "image/png": "[encoded data removed]",
      "text/plain": [
       "<Figure size 720x720 with 12 Axes>"
      ]
     },
     "metadata": {
      "needs_background": "light"
     },
     "output_type": "display_data"
    }
   ],
   "source": [
    "X.hist(figsize=(10, 10))"
   ]
  },
  {
   "cell_type": "markdown",
   "metadata": {},
   "source": [
    "Feature selection is one of the vital concept in machine learning which hugely impacts the performance of the model. It is  a process to automatically or manually select those features that has a major contribution on the predicition.\n",
    "It is not necessary that more data would result in highly good predictions, sometimes irrelevant and redundant features can make the learning process  more complex and may result in overfitting.\n",
    "The stated problem is a classification problem where the focus is on selecting the important feature that are most useful for predictive modeling problems. Feature selection is important for few reasons.\n",
    "1. Enhance the generalization capability of the model by reducing overfitting.\n",
    "2. Drastically reduces the training time with lesser computation cost.\n",
    "3. Increases model accuracy by making the algorithms simpler.\n",
    "\n",
    "There are several methods available for feature selection such as:\n",
    "1. Filter Methods\n",
    "2. Wrapper Methods \n",
    "2. Embedded Methods"
   ]
  },
  {
   "cell_type": "markdown",
   "metadata": {},
   "source": [
    "# Filter Method\n",
    "## Variance Method\n",
    "checking features that show the same value for the majority of the observations.\n"
   ]
  },
  {
   "cell_type": "code",
   "execution_count": 8,
   "metadata": {},
   "outputs": [
    {
     "name": "stdout",
     "output_type": "stream",
     "text": [
      "10\n"
     ]
    }
   ],
   "source": [
    "#Find the constant column\n",
    "vs_constant = VarianceThreshold(threshold=0)\n",
    "vs_constant.fit(X)\n",
    "constant_columns = [column for column in X.columns\n",
    "                    if column not in X.columns[vs_constant.get_support()]]\n",
    "len(constant_columns)\n",
    "print(len(X.columns[vs_constant.get_support()]))"
   ]
  },
  {
   "cell_type": "markdown",
   "metadata": {},
   "source": [
    "There are no feature columns that have constant value."
   ]
  },
  {
   "cell_type": "markdown",
   "metadata": {},
   "source": [
    "## Correlation Method\n",
    "checking features that are highly correlated to each other"
   ]
  },
  {
   "cell_type": "code",
   "execution_count": 9,
   "metadata": {},
   "outputs": [],
   "source": [
    "#Find Correlation between features\n",
    "correlated_features = set()\n",
    "correlation_matrix = X.corr()"
   ]
  },
  {
   "cell_type": "code",
   "execution_count": 10,
   "metadata": {},
   "outputs": [
    {
     "data": {
      "text/plain": [
       "<matplotlib.axes._subplots.AxesSubplot at 0x7f5f8bd89cf8>"
      ]
     },
     "execution_count": 10,
     "metadata": {},
     "output_type": "execute_result"
    },
    {
     "data": {
      "image/png": "[encoded data removed]",
      "text/plain": [
       "<Figure size 792x792 with 2 Axes>"
      ]
     },
     "metadata": {
      "needs_background": "light"
     },
     "output_type": "display_data"
    }
   ],
   "source": [
    "plt.figure(figsize=(11,11))\n",
    "sns.heatmap(correlation_matrix)"
   ]
  },
  {
   "cell_type": "code",
   "execution_count": 11,
   "metadata": {},
   "outputs": [
    {
     "name": "stdout",
     "output_type": "stream",
     "text": [
      "set()\n"
     ]
    }
   ],
   "source": [
    "for i in range(len(correlation_matrix .columns)):\n",
    "    for j in range(i):\n",
    "        if abs(correlation_matrix.iloc[i, j]) > 0.8:\n",
    "            colname = correlation_matrix.columns[i]\n",
    "            correlated_features.add(colname)\n",
    "print(correlated_features)            "
   ]
  },
  {
   "cell_type": "markdown",
   "metadata": {},
   "source": [
    "From the correlation matrix we can note that there is no mutual dependency between the two features."
   ]
  },
  {
   "cell_type": "markdown",
   "metadata": {},
   "source": [
    "## Statistical Filter Method\n",
    "These are statistical tests that measures the importance of each feature individually.\n",
    "Some of the test includes-\n",
    "Mutual information measures,\n",
    "ANOVA measurement "
   ]
  },
  {
   "cell_type": "code",
   "execution_count": 12,
   "metadata": {},
   "outputs": [
    {
     "name": "stdout",
     "output_type": "stream",
     "text": [
      "Index(['sensor1', 'sensor2', 'sensor4', 'sensor6', 'sensor8'], dtype='object')\n"
     ]
    }
   ],
   "source": [
    "# applying the mutual information measurement on the data and target \n",
    "select_k = 5\n",
    "selection = SelectKBest(mutual_info_classif, k=select_k).fit(X, Y)\n",
    "\n",
    "# displaying the k best selected features.\n",
    "features = X.columns[selection.get_support()]\n",
    "print(features)\n"
   ]
  },
  {
   "cell_type": "code",
   "execution_count": 13,
   "metadata": {},
   "outputs": [
    {
     "name": "stdout",
     "output_type": "stream",
     "text": [
      "SelectKBest(k=5)\n",
      "Index(['sensor0', 'sensor1', 'sensor3', 'sensor4', 'sensor8'], dtype='object')\n"
     ]
    }
   ],
   "source": [
    "# create the SelectKBest with the ANOVA strategy.\n",
    "selection = SelectKBest(f_classif, k=select_k).fit(X, Y)\n",
    "print(selection)\n",
    "\n",
    "# display the retained features.\n",
    "features = X.columns[selection.get_support()]\n",
    "print(features)"
   ]
  },
  {
   "cell_type": "markdown",
   "metadata": {},
   "source": [
    "From statistical methods, we look for the common features calculated from these methods.\n",
    "The important features with respect to the class labels of the samples are Sensor (1,4,8)"
   ]
  },
  {
   "cell_type": "markdown",
   "metadata": {},
   "source": [
    "# Wrapper Method\n",
    "The methods used are Forward Selection, Backward Elimination, and Exhaustive Selection. Random Forest classifier is used as an ML model for fitting the feature subsets evaluated from these strategies."
   ]
  },
  {
   "cell_type": "markdown",
   "metadata": {},
   "source": [
    "## Forward Selection"
   ]
  },
  {
   "cell_type": "code",
   "execution_count": 14,
   "metadata": {},
   "outputs": [
    {
     "name": "stderr",
     "output_type": "stream",
     "text": [
      "[Parallel(n_jobs=1)]: Using backend SequentialBackend with 1 concurrent workers.\n",
      "[Parallel(n_jobs=1)]: Done  10 out of  10 | elapsed:    4.3s finished\n",
      "Features: 1/5[Parallel(n_jobs=1)]: Using backend SequentialBackend with 1 concurrent workers.\n",
      "[Parallel(n_jobs=1)]: Done   9 out of   9 | elapsed:    3.4s finished\n",
      "Features: 2/5[Parallel(n_jobs=1)]: Using backend SequentialBackend with 1 concurrent workers.\n",
      "[Parallel(n_jobs=1)]: Done   8 out of   8 | elapsed:    3.0s finished\n",
      "Features: 3/5[Parallel(n_jobs=1)]: Using backend SequentialBackend with 1 concurrent workers.\n",
      "[Parallel(n_jobs=1)]: Done   7 out of   7 | elapsed:    2.6s finished\n",
      "Features: 4/5[Parallel(n_jobs=1)]: Using backend SequentialBackend with 1 concurrent workers.\n",
      "[Parallel(n_jobs=1)]: Done   6 out of   6 | elapsed:    2.2s finished\n",
      "Features: 5/5"
     ]
    }
   ],
   "source": [
    "\n",
    "sfs1 = SFS(RandomForestClassifier(n_jobs=-1,n_estimators=5), \n",
    "           k_features=5, \n",
    "           forward=True, \n",
    "           floating=False, \n",
    "           verbose=1,\n",
    "           scoring='roc_auc',\n",
    "           cv=3)\n",
    "\n",
    "sfs1 = sfs1.fit(X,Y)"
   ]
  },
  {
   "cell_type": "code",
   "execution_count": 15,
   "metadata": {},
   "outputs": [
    {
     "data": {
      "text/plain": [
       "Index(['sensor1', 'sensor4', 'sensor6', 'sensor7', 'sensor9'], dtype='object')"
      ]
     },
     "execution_count": 15,
     "metadata": {},
     "output_type": "execute_result"
    }
   ],
   "source": [
    "#Important features from forward selection method\n",
    "selected_features_FS= X.columns[list(sfs1.k_feature_idx_)]\n",
    "selected_features_FS"
   ]
  },
  {
   "cell_type": "markdown",
   "metadata": {},
   "source": [
    "## Backward Elimination Method"
   ]
  },
  {
   "cell_type": "code",
   "execution_count": 16,
   "metadata": {},
   "outputs": [
    {
     "name": "stderr",
     "output_type": "stream",
     "text": [
      "[Parallel(n_jobs=1)]: Using backend SequentialBackend with 1 concurrent workers.\n",
      "[Parallel(n_jobs=1)]: Done  10 out of  10 | elapsed:    3.7s finished\n",
      "Features: 9/5[Parallel(n_jobs=1)]: Using backend SequentialBackend with 1 concurrent workers.\n",
      "[Parallel(n_jobs=1)]: Done   9 out of   9 | elapsed:    3.4s finished\n",
      "Features: 8/5[Parallel(n_jobs=1)]: Using backend SequentialBackend with 1 concurrent workers.\n",
      "[Parallel(n_jobs=1)]: Done   8 out of   8 | elapsed:    3.0s finished\n",
      "Features: 7/5[Parallel(n_jobs=1)]: Using backend SequentialBackend with 1 concurrent workers.\n",
      "[Parallel(n_jobs=1)]: Done   7 out of   7 | elapsed:    2.6s finished\n",
      "Features: 6/5[Parallel(n_jobs=1)]: Using backend SequentialBackend with 1 concurrent workers.\n",
      "[Parallel(n_jobs=1)]: Done   6 out of   6 | elapsed:    2.3s finished\n",
      "Features: 5/5"
     ]
    }
   ],
   "source": [
    "sfs2 = SFS(RandomForestClassifier(n_jobs=-1,n_estimators=5), \n",
    "           k_features=5, \n",
    "           forward=False, \n",
    "           floating=False, \n",
    "           verbose=1,\n",
    "           scoring='roc_auc',\n",
    "           cv=3)\n",
    "sfs2 = sfs2.fit(X,Y)"
   ]
  },
  {
   "cell_type": "code",
   "execution_count": 17,
   "metadata": {},
   "outputs": [
    {
     "data": {
      "text/plain": [
       "Index(['sensor2', 'sensor3', 'sensor5', 'sensor6', 'sensor7'], dtype='object')"
      ]
     },
     "execution_count": 17,
     "metadata": {},
     "output_type": "execute_result"
    }
   ],
   "source": [
    "#Important features from backward elimination method\n",
    "selected_feat_BE= X.columns[list(sfs2.k_feature_idx_)]\n",
    "selected_feat_BE"
   ]
  },
  {
   "cell_type": "markdown",
   "metadata": {},
   "source": [
    "## Exhaustive Selection"
   ]
  },
  {
   "cell_type": "code",
   "execution_count": 18,
   "metadata": {},
   "outputs": [
    {
     "name": "stderr",
     "output_type": "stream",
     "text": [
      "Features: 848/848"
     ]
    }
   ],
   "source": [
    "efs1 = EFS(RandomForestClassifier(n_jobs=-1,n_estimators=5, random_state=0), \n",
    "           min_features=4,\n",
    "           max_features=10, \n",
    "           scoring='roc_auc',\n",
    "           print_progress=True,\n",
    "           cv=2)\n",
    "\n",
    "efs1 = efs1.fit(X, Y)"
   ]
  },
  {
   "cell_type": "code",
   "execution_count": 19,
   "metadata": {},
   "outputs": [
    {
     "data": {
      "text/plain": [
       "Index(['sensor1', 'sensor3', 'sensor5', 'sensor6', 'sensor9'], dtype='object')"
      ]
     },
     "execution_count": 19,
     "metadata": {},
     "output_type": "execute_result"
    }
   ],
   "source": [
    "#Important features from exhaustive selection method\n",
    "selected_feat_ES= X.columns[list(efs1.best_idx_)]\n",
    "selected_feat_ES"
   ]
  },
  {
   "cell_type": "markdown",
   "metadata": {},
   "source": [
    "From these different methods, we found that 'sensor 6' is the only feature that is common in all the strategies we have used.\n",
    "So sensor 6 is definitely an important feature for the mentioned dataset."
   ]
  },
  {
   "cell_type": "markdown",
   "metadata": {},
   "source": [
    "# Embedded Methods\n",
    "Random Forests and XGBoost are used to select important features.\n",
    "Random Forest is based on decision trees utilizing the bagging algorithm and the Ensemble Learning technique. It creates decision trees based on the subset of the data and combines the output and makes decisions on the majority of votes. For the mentioned dataset, Random Forest could be helpful for better interpretability of the model and it is validated by  Out of bag score which is helpful in getting the validation accuracy when the dataset is smaller in size.\n"
   ]
  },
  {
   "cell_type": "code",
   "execution_count": 24,
   "metadata": {},
   "outputs": [],
   "source": [
    "# sort in ascending order to better visualization.\n",
    "def plot_important_features(final_df, title):\n",
    "    \n",
    "    final_df = final_df.sort_values('Importance')\n",
    "\n",
    "    # plot the feature importances in bars.\n",
    "    final_df.columns = ['Feature', 'Importance']\n",
    "    plt.figure(figsize=(10,10))\n",
    "    sns.barplot(x = 'Feature' , y='Importance', data = final_df, color = 'red').set_title(title)\n"
   ]
  },
  {
   "cell_type": "code",
   "execution_count": 27,
   "metadata": {},
   "outputs": [
    {
     "data": {
      "image/png": "[encoded data removed]",
      "text/plain": [
       "<Figure size 720x720 with 1 Axes>"
      ]
     },
     "metadata": {
      "needs_background": "light"
     },
     "output_type": "display_data"
    }
   ],
   "source": [
    "\n",
    "# create the random forest with your hyperparameters.\n",
    "model = RandomForestClassifier(n_estimators=300, oob_score = True)\n",
    "\n",
    "# fit the model to start training.\n",
    "model.fit(X, Y)\n",
    "\n",
    "# get the importance of the resulting features.\n",
    "importances = model.feature_importances_\n",
    "# create a data frame for visualization.\n",
    "final_df = pd.DataFrame({\"Feature\": X.columns, \"Importance\":importances})\n",
    "plot_important_features(final_df, 'scikit-learn-feature-importance')"
   ]
  },
  {
   "cell_type": "code",
   "execution_count": 28,
   "metadata": {},
   "outputs": [
    {
     "name": "stdout",
     "output_type": "stream",
     "text": [
      "Validation Score: 0.9875\n"
     ]
    }
   ],
   "source": [
    "print('Validation Score:', model.oob_score_)"
   ]
  },
  {
   "cell_type": "markdown",
   "metadata": {},
   "source": [
    "The oob_score which is obtained looks quite good. \n",
    "We tried using the feature importance method of scikit learn by training Random Forest to get a prior intuition of the feature available on the dataset.\n",
    "We can see that features such as sensor 8, sensor 6, sensor 4 have the highest importance score as compared to other features.\n",
    "Though Random Forest has several advantages such that it can be used to solve classification and regression problems. They are robust to outliers and there is no need for feature scaling (standardization and normalization) to train the model.\n",
    "The downside of Random Forest is that it requires much more computational power and resources and it suffers from bias problems due to high cardinality and inflates the importance of continuous features.\n",
    "Alternatively, XGBoost has also been used and its feature importance methods are tried to evaluate the best performing features"
   ]
  },
  {
   "cell_type": "code",
   "execution_count": 29,
   "metadata": {},
   "outputs": [
    {
     "name": "stdout",
     "output_type": "stream",
     "text": [
      "[15:53:15] WARNING: /home/conda/feedstock_root/build_artifacts/xgboost_1593723605503/work/src/learner.cc:480: \n",
      "Parameters: { bootstrap, oob_score } might not be used.\n",
      "\n",
      "  This may not be accurate due to some parameters are only used in language bindings but\n",
      "  passed down to XGBoost core.  Or some parameters are not used but slip through this\n",
      "  verification. Please open an issue if you find above cases.\n",
      "\n",
      "\n"
     ]
    },
    {
     "data": {
      "text/plain": [
       "<matplotlib.axes._subplots.AxesSubplot at 0x7f5f8a6296d8>"
      ]
     },
     "execution_count": 29,
     "metadata": {},
     "output_type": "execute_result"
    },
    {
     "data": {
      "image/png": "[encoded data removed]",
      "text/plain": [
       "<Figure size 432x288 with 1 Axes>"
      ]
     },
     "metadata": {
      "needs_background": "light"
     },
     "output_type": "display_data"
    }
   ],
   "source": [
    "xgb = XGBClassifier(n_estimators = 100,\n",
    "                           n_jobs = -1,\n",
    "                           oob_score = True,\n",
    "                           bootstrap = True, random_state=42)\n",
    "xgb.fit(X, Y)\n",
    "plot_importance(xgb)"
   ]
  },
  {
   "cell_type": "markdown",
   "metadata": {},
   "source": [
    "From feature importance method of xgBoost we found that sensor 6 is the most important feature as compared to others."
   ]
  },
  {
   "cell_type": "markdown",
   "metadata": {},
   "source": [
    "## Permutation Feature Importance Method\n",
    "There are some drawbacks in using scikit-learn feature importance method for a model trained on Random Forest\n",
    "such as there is bias involved in this method. So to overcome this problem, permutation feature importance method is used where the model is trained using the Random Forest algorithm and validation score (Out of Bag score is calculated) which is denoted as a benchmarked score. After that, each column features are shuffled and pass to the model to calculate the validation score again. Afterward, the feature importance score is calculated by taking the difference between the score obtained from the shuffled data and benchmark score. This process is repeated for every feature column and the importance of the features is evaluated."
   ]
  },
  {
   "cell_type": "code",
   "execution_count": 30,
   "metadata": {},
   "outputs": [],
   "source": [
    "def model_metric(model, X, y):\n",
    "    return accuracy_score(y, model.predict(X))"
   ]
  },
  {
   "cell_type": "code",
   "execution_count": 31,
   "metadata": {},
   "outputs": [
    {
     "name": "stderr",
     "output_type": "stream",
     "text": [
      "/home/sadique/anaconda3/envs/radar/lib/python3.7/site-packages/sklearn/utils/deprecation.py:143: FutureWarning: The sklearn.ensemble.forest module is  deprecated in version 0.22 and will be removed in version 0.24. The corresponding classes / functions should instead be imported from sklearn.ensemble. Anything that cannot be imported from sklearn.ensemble is now part of the private API.\n",
      "  warnings.warn(message, FutureWarning)\n"
     ]
    },
    {
     "name": "stdout",
     "output_type": "stream",
     "text": [
      "         Importance\n",
      "Feature            \n",
      "sensor6      0.1275\n",
      "sensor8      0.0125\n",
      "sensor0      0.0050\n",
      "sensor4      0.0050\n",
      "sensor2      0.0025\n",
      "sensor1      0.0000\n",
      "sensor3      0.0000\n",
      "sensor5      0.0000\n",
      "sensor7      0.0000\n",
      "sensor9      0.0000\n"
     ]
    }
   ],
   "source": [
    "from rfpimp import *\n",
    "imp_features = permutation_importances(model, X, Y, model_metric)\n",
    "print(imp_features)\n",
    "imp_features.reset_index(drop = False, inplace = True)"
   ]
  },
  {
   "cell_type": "code",
   "execution_count": 32,
   "metadata": {},
   "outputs": [
    {
     "data": {
      "image/png": "[encoded data removed]",
      "text/plain": [
       "<Figure size 720x720 with 1 Axes>"
      ]
     },
     "metadata": {
      "needs_background": "light"
     },
     "output_type": "display_data"
    }
   ],
   "source": [
    "plot_important_features(imp_features,'permutation-importance-method')"
   ]
  },
  {
   "cell_type": "markdown",
   "metadata": {},
   "source": [
    "As expected the permutation importance feature method gives a different result when compared to the Scikit learn's default feature importance method. Senor 6 is the best performing feature as compared to others. The ranking of features is almost similar to the important features obtained from the Xgboost method.  Sensor 8 and Sensor 4 are also important features as they are among the top three features."
   ]
  },
  {
   "cell_type": "markdown",
   "metadata": {},
   "source": [
    "## References\n",
    "\n",
    "1. A guide for feature engineering and feature selection, with implementations and examples in python.terence parr, kerem turgutlu, christopher csiszar, and jeremy howard. https://explained.ai/rf-importance/\n",
    "2.  A guide for feature engineering and feature selection, with implementations and examples in python. \n",
    "https://github.com/Yimeng-Zhang/feature-engineering-and-feature-selection\n",
    "3. Hands-on with feature selection techniques: An introduction.\n",
    "https://heartbeat.fritz.ai/\n",
    "4. Machine learning basics - gradient boosting xgboost.https://www.shirin-glander.de/2018/11/ml_basics_"
   ]
  }
 ],
 "metadata": {
  "kernelspec": {
   "display_name": "Python 3",
   "language": "python",
   "name": "python3"
  },
  "language_info": {
   "codemirror_mode": {
    "name": "ipython",
    "version": 3
   },
   "file_extension": ".py",
   "mimetype": "text/x-python",
   "name": "python",
   "nbconvert_exporter": "python",
   "pygments_lexer": "ipython3",
   "version": "3.7.0"
  }
 },
 "nbformat": 4,
 "nbformat_minor": 4
}
